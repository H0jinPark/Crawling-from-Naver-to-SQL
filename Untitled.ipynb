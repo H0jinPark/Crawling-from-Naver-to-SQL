{
 "cells": [
  {
   "cell_type": "code",
   "execution_count": 1,
   "id": "77778567-d256-4ee5-a76b-61af57e4cb5e",
   "metadata": {},
   "outputs": [
    {
     "ename": "NameError",
     "evalue": "name 'get_full_location' is not defined",
     "output_type": "error",
     "traceback": [
      "\u001b[1;31m---------------------------------------------------------------------------\u001b[0m",
      "\u001b[1;31mNameError\u001b[0m                                 Traceback (most recent call last)",
      "Cell \u001b[1;32mIn[1], line 1\u001b[0m\n\u001b[1;32m----> 1\u001b[0m get_full_location(\u001b[38;5;124m\"\u001b[39m\u001b[38;5;124m09050102\u001b[39m\u001b[38;5;124m\"\u001b[39m)\n",
      "\u001b[1;31mNameError\u001b[0m: name 'get_full_location' is not defined"
     ]
    }
   ],
   "source": [
    "from URP_assignment import\n",
    "get_full_location(\"09050102\")"
   ]
  },
  {
   "cell_type": "code",
   "execution_count": null,
   "id": "f7e1dde0-ed5d-448b-a67b-ec5e7237cbd8",
   "metadata": {},
   "outputs": [],
   "source": []
  }
 ],
 "metadata": {
  "kernelspec": {
   "display_name": "Python 3 (ipykernel)",
   "language": "python",
   "name": "python3"
  },
  "language_info": {
   "codemirror_mode": {
    "name": "ipython",
    "version": 3
   },
   "file_extension": ".py",
   "mimetype": "text/x-python",
   "name": "python",
   "nbconvert_exporter": "python",
   "pygments_lexer": "ipython3",
   "version": "3.12.4"
  }
 },
 "nbformat": 4,
 "nbformat_minor": 5
}
